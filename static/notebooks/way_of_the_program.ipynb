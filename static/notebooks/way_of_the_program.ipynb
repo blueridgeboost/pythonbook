{
 "cells": [
  {
   "cell_type": "markdown",
   "id": "991252ef-83ee-4fb7-bf1d-8fadc127a4d6",
   "metadata": {},
   "source": [
    "# The Way of a Program\n",
    "\n",
    "A **program** is a sequence of instructions that specifies how to perform a computation. \n",
    "\n",
    "A **programming language** is the language coders use to *talk* to the computer. \n",
    "\n",
    "A language people use to communicate with others is called a **natural language**. Natural languages were not designed \n",
    "by people (although people try to impose some order on them); they evolved naturally ."
   ]
  },
  {
   "cell_type": "markdown",
   "id": "00514ec5-d6fd-47b5-9ee6-dc150d8a38d0",
   "metadata": {},
   "source": [
    "*Question:* What natural languages do you know? \n",
    "\n",
    "*Write your answer here*"
   ]
  },
  {
   "cell_type": "markdown",
   "id": "e496ff0f-b692-4b2d-9a35-96f748db1e13",
   "metadata": {},
   "source": [
    "*Question:* What programming languages do you know?\n",
    "\n",
    "*Write your answer here*"
   ]
  },
  {
   "cell_type": "markdown",
   "id": "d0e77afe-8800-44a3-a08e-ee97ed68bcb9",
   "metadata": {},
   "source": [
    "**Formal languages** are languages that people design for specific applications.\n",
    "\n",
    "For example, the notation that mathematicians use is a formal language that is particularly good at denoting relationships among numbers and symbols. \n",
    "Programming languages are formal languages designed to express computations."
   ]
  },
  {
   "cell_type": "markdown",
   "id": "531b3256-b2c0-4dd4-97cc-19c94cb30ccd",
   "metadata": {},
   "source": [
    "## How are natural and formal languages alike?\n",
    "\n",
    "1. Only some symbol combinations are words in the language. That's why we learn spelling rules.\n",
    "   *Cat* is a valid English word, but no English word is spelled *abb*. In math, we use the plus sign but not the hashtag.\n",
    "2. Only some combinations of words make a sentence. That's why we learn sentence structure, capitalization, and punctuation rules. \n",
    "The combination *Cats and dogs run* is a valid English sentence, but *cat dog run bark\" is not. The combination *1+-/3* is not a mathematical sentence.\n",
    "3. Only some correctly formed sentences have a meaning in the language.\n",
    "\n",
    "The first two rules define the **syntax** of the language. The last one defines the *semantics* of the language."
   ]
  },
  {
   "cell_type": "markdown",
   "id": "d442fe06-e68c-4bcf-aa11-ebbd4edf7908",
   "metadata": {},
   "source": [
    "## How are natural and formal languages different?\n",
    "\n",
    "Although formal and natural languages have many features in common — tokens, structure, syntax, and semantics, there are many differences.\r\n",
    "\n",
    "**ambiguity**\n",
    "\n",
    "Natural languages are ambiguous. People use contextual clues and other information to construct the meaning of a sentence. Formal languages are designed to be nearly or completely unambiguous, which means that any statement has exactly one meaning, regardless of context.\n",
    "\n",
    "**redundancy**\n",
    "\n",
    "Natural languages use extra information to make up for ambiguity and reduce misunderstandings. For example, one might say *I went to the market, not to school.* Obviously, one can not be in two places simultaneously.\n",
    "\n",
    "Formal languages are more concise. Since there is very little ambiguity in formal languages, redundancy is unnecessary.\n",
    "\n",
    "**literalness**\n",
    "\n",
    "Formal\n",
    "Formal languages mean exactly what they say. On the other hand, natural lsnhavefull osf idiom and msetaphor. If someone says, “Theshoeer sh,” fell”, there is probably no shoe and nothing faThe usual meaning is that something expected happenedf Because we all grow up grow up speaking a natural , it takes some work ande a hato rd timdjusting to formal lan and structure."
   ]
  },
  {
   "cell_type": "markdown",
   "id": "582d2971-3b2b-4eb6-93d5-7b2c4f7eeca9",
   "metadata": {},
   "source": [
    "*Exercise:* Write an English sentence with understandable semantics but incorrect syntax. \n",
    "\n",
    "*Write your answer here*."
   ]
  },
  {
   "cell_type": "markdown",
   "id": "5b050b68-be86-48a3-9eee-27740c29b6f9",
   "metadata": {},
   "source": [
    "*Exercise:* Write another English (or Dutch!) sentence with correct syntax but semantic errors. \n",
    "\n",
    "*Write your answer here*"
   ]
  },
  {
   "cell_type": "markdown",
   "id": "c05eeaaf-c38c-4e1f-a4b6-78ee18af1e43",
   "metadata": {},
   "source": [
    "*Exercise* In the box below, type 1 + 2 click on the sideways triangle. \n",
    "\n",
    "Python evaluates this expression and displays the result."
   ]
  },
  {
   "cell_type": "code",
   "execution_count": null,
   "id": "b51f5b77-28a7-4cc5-b1a1-c70d0c481a05",
   "metadata": {
    "scrolled": true
   },
   "outputs": [],
   "source": [
    "1+2"
   ]
  },
  {
   "cell_type": "markdown",
   "id": "a06dbdd6-34d4-4b48-a3ac-299ccd1ada52",
   "metadata": {},
   "source": [
    "*Exercise* Experiment by entering different expressions and recording what the Python interpreter displays.\n",
    "\n",
    "To ask Python to perform a multiplication, use * instead of x."
   ]
  },
  {
   "cell_type": "code",
   "execution_count": null,
   "id": "8bc1b823-a089-4cda-b034-aecab1aff666",
   "metadata": {},
   "outputs": [],
   "source": []
  },
  {
   "cell_type": "markdown",
   "id": "cddbdbb2-075d-49d0-a12b-0dec2c025598",
   "metadata": {},
   "source": [
    "*Exercise* Below, type 1 2 and then hit return. Python tries to evaluate the expression, but it can’t because the expression is not\r\n",
    "syntactically legal. Instead, it showsan error message.:"
   ]
  },
  {
   "cell_type": "code",
   "execution_count": null,
   "id": "a3895fb7-e5cb-43fd-9ed8-0f8bd6df4e3b",
   "metadata": {},
   "outputs": [],
   "source": [
    "1 2"
   ]
  },
  {
   "cell_type": "markdown",
   "id": "514cab78-0b03-4a98-8bb0-6058ab87c57a",
   "metadata": {},
   "source": [
    "Above, you should see a caret symbol, ^, indicating where the Python interpreter got stuck. In this case, it is under the number 2, and the message is invalid syntax. It is up to the programmer to recall that an arithmetic expression requires an operation between two numbers.\n",
    "\n",
    "Write code that produces errors in the boxes below. Read the error messages and try to understand what error is reported.o you."
   ]
  },
  {
   "cell_type": "code",
   "execution_count": null,
   "id": "f4ed8792-a52f-47c5-95a0-fe71bb4ae291",
   "metadata": {},
   "outputs": [],
   "source": []
  },
  {
   "cell_type": "code",
   "execution_count": null,
   "id": "50fa29a4-31e3-4518-a69a-f629e04929e4",
   "metadata": {},
   "outputs": [],
   "source": []
  },
  {
   "cell_type": "code",
   "execution_count": null,
   "id": "3b105507-222b-476d-9f41-53005864fdd8",
   "metadata": {},
   "outputs": [],
   "source": []
  }
 ],
 "metadata": {
  "kernelspec": {
   "display_name": "Python 3 (ipykernel)",
   "language": "python",
   "name": "python3"
  },
  "language_info": {
   "codemirror_mode": {
    "name": "ipython",
    "version": 3
   },
   "file_extension": ".py",
   "mimetype": "text/x-python",
   "name": "python",
   "nbconvert_exporter": "python",
   "pygments_lexer": "ipython3",
   "version": "3.11.5"
  }
 },
 "nbformat": 4,
 "nbformat_minor": 5
}
